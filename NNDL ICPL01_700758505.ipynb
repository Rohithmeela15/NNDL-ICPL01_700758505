{
  "nbformat": 4,
  "nbformat_minor": 0,
  "metadata": {
    "colab": {
      "provenance": []
    },
    "kernelspec": {
      "name": "python3",
      "display_name": "Python 3"
    },
    "language_info": {
      "name": "python"
    }
  },
  "cells": [
    {
      "cell_type": "code",
      "execution_count": 1,
      "metadata": {
        "colab": {
          "base_uri": "https://localhost:8080/"
        },
        "id": "A6oidyRd6_AT",
        "outputId": "ed852a4a-0219-45a6-ba02-b78b88e616a9"
      },
      "outputs": [
        {
          "output_type": "stream",
          "name": "stdout",
          "text": [
            "enter your first name Sai Rohith\n",
            "enter your last name Meela\n",
            "your full name is Sai RohithMeela\n"
          ]
        }
      ],
      "source": [
        "def fullname(firstname,lastname):\n",
        "  return firstname+lastname\n",
        "\n",
        "firstname=input(\"enter your first name \")\n",
        "lastname=input(\"enter your last name \")\n",
        "fullname=fullname(firstname,lastname)\n",
        "print(\"your full name is \"+fullname)"
      ]
    },
    {
      "cell_type": "code",
      "source": [
        "def string_alternative(fullname):\n",
        "  return fullname[::2]\n",
        "\n",
        "fullname=input(\"enter the fullname \")\n",
        "print(string_alternative(fullname))\n"
      ],
      "metadata": {
        "colab": {
          "base_uri": "https://localhost:8080/"
        },
        "id": "ma4FM5sg7FNS",
        "outputId": "502eb743-9706-48a4-dad6-d3907d5b6801"
      },
      "execution_count": 2,
      "outputs": [
        {
          "output_type": "stream",
          "name": "stdout",
          "text": [
            "enter the fullname Sai Rohith Meela\n",
            "SiRht el\n"
          ]
        }
      ]
    },
    {
      "cell_type": "code",
      "source": [
        "from collections import Counter\n",
        "with open('/content/input.txt', 'r') as input_file:\n",
        "    lines = input_file.readlines()\n",
        "\n",
        "output_lines = []\n",
        "list_of_words = []\n",
        "\n",
        "for line in lines:\n",
        "    line = line.strip()\n",
        "\n",
        "    list_of_words.extend(line.split(\" \"))\n",
        "\n",
        "\n",
        "element_count = Counter(list_of_words)\n",
        "\n",
        "for element, count in element_count.items():\n",
        "  output_lines.append(f\"{element} - Count: {count}\")\n",
        "\n",
        "with open('\\My Drive\\Colab Notebooks\\output.txt', 'w') as output_file:\n",
        "    output_file.write(\"Python Course\" + '\\n')\n",
        "    output_file.write(\"Deep Learning Course\" + '\\n')\n",
        "    output_file.write(\"Word_Count:\" + '\\n')\n",
        "    for line in output_lines:\n",
        "        output_file.write(line + '\\n')\n",
        "\n",
        "print(\"Output written to output.txt\")\n"
      ],
      "metadata": {
        "colab": {
          "base_uri": "https://localhost:8080/"
        },
        "id": "iP6AMZ4p7OTw",
        "outputId": "b9b9cf26-a64a-41d9-e5e2-f0b2596ec526"
      },
      "execution_count": 15,
      "outputs": [
        {
          "output_type": "stream",
          "name": "stdout",
          "text": [
            "Output written to output.txt\n"
          ]
        }
      ]
    },
    {
      "cell_type": "code",
      "source": [
        "height_inch=[]\n",
        "height_cm=[]\n",
        "\n",
        "\n",
        "num_customers = int(input(\"Enter the number of customers: \"))\n",
        "heights_inches = [float(input(f\"Enter the height in inches of the customer {i + 1}: \")) for i in range(num_customers)]\n",
        "heights_cm = [inches * 2.54 for inches in heights_inches]\n",
        "for i in range(num_customers):\n",
        "    print(f\"Customer {i + 1}: {heights_inches[i]} inches = {heights_cm[i]} cm\")"
      ],
      "metadata": {
        "colab": {
          "base_uri": "https://localhost:8080/"
        },
        "id": "Em-DCZNd7twI",
        "outputId": "3e56546e-01c3-44de-d038-a14e5fba7027"
      },
      "execution_count": 5,
      "outputs": [
        {
          "output_type": "stream",
          "name": "stdout",
          "text": [
            "Enter the number of customers: 4\n",
            "Enter the height in inches of the customer 1: 150\n",
            "Enter the height in inches of the customer 2: 155\n",
            "Enter the height in inches of the customer 3: 145\n",
            "Enter the height in inches of the customer 4: 148\n",
            "Customer 1: 150.0 inches = 381.0 cm\n",
            "Customer 2: 155.0 inches = 393.7 cm\n",
            "Customer 3: 145.0 inches = 368.3 cm\n",
            "Customer 4: 148.0 inches = 375.92 cm\n"
          ]
        }
      ]
    },
    {
      "cell_type": "code",
      "source": [
        "height_inches=[]\n",
        "height_cm=[]\n",
        "\n",
        "height_inches=[150,155,145,148]\n",
        "height_cm=[inch*2.54 for inch in height_inches]\n",
        "print(height_cm)"
      ],
      "metadata": {
        "colab": {
          "base_uri": "https://localhost:8080/"
        },
        "id": "fQKoNarX7-Tp",
        "outputId": "4602922e-5545-4f75-d75a-a235ca1e812a"
      },
      "execution_count": 7,
      "outputs": [
        {
          "output_type": "stream",
          "name": "stdout",
          "text": [
            "[381.0, 393.7, 368.3, 375.92]\n"
          ]
        }
      ]
    },
    {
      "cell_type": "code",
      "source": [],
      "metadata": {
        "id": "JFb0eMFr8aiO"
      },
      "execution_count": null,
      "outputs": []
    }
  ]
}